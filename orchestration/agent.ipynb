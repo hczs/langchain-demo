{
 "cells": [
  {
   "cell_type": "code",
   "execution_count": null,
   "id": "initial_id",
   "metadata": {
    "collapsed": true
   },
   "outputs": [],
   "source": [
    "# 目标 让 llm 具有调用工具的能力，也就是所谓的 agent"
   ]
  },
  {
   "cell_type": "code",
   "execution_count": 1,
   "id": "85a62edb50c78d75",
   "metadata": {},
   "outputs": [
    {
     "name": "stdout",
     "output_type": "stream",
     "text": [
      "Note: you may need to restart the kernel to use updated packages.\n"
     ]
    },
    {
     "name": "stderr",
     "output_type": "stream",
     "text": [
      "\u001b[2mResolved \u001b[1m156 packages\u001b[0m \u001b[2min 2.20s\u001b[0m\u001b[0m\n",
      "\u001b[2mPrepared \u001b[1m14 packages\u001b[0m \u001b[2min 2.16s\u001b[0m\u001b[0m\n",
      "\u001b[1m\u001b[33mwarning\u001b[39m\u001b[0m\u001b[1m:\u001b[0m \u001b[1mFailed to hardlink files; falling back to full copy. This may lead to degraded performance.\n",
      "         If the cache and target directories are on different filesystems, hardlinking may not be supported.\n",
      "         If this is intentional, set `export UV_LINK_MODE=copy` or use `--link-mode=copy` to suppress this warning.\u001b[0m\n",
      "\u001b[2mInstalled \u001b[1m14 packages\u001b[0m \u001b[2min 653ms\u001b[0m\u001b[0m\n",
      " \u001b[32m+\u001b[39m \u001b[1maiosqlite\u001b[0m\u001b[2m==0.21.0\u001b[0m\n",
      " \u001b[32m+\u001b[39m \u001b[1manthropic\u001b[0m\u001b[2m==0.49.0\u001b[0m\n",
      " \u001b[32m+\u001b[39m \u001b[1mdistro\u001b[0m\u001b[2m==1.9.0\u001b[0m\n",
      " \u001b[32m+\u001b[39m \u001b[1mjiter\u001b[0m\u001b[2m==0.9.0\u001b[0m\n",
      " \u001b[32m+\u001b[39m \u001b[1mlangchain-anthropic\u001b[0m\u001b[2m==0.3.10\u001b[0m\n",
      " \u001b[32m+\u001b[39m \u001b[1mlanggraph\u001b[0m\u001b[2m==0.3.18\u001b[0m\n",
      " \u001b[32m+\u001b[39m \u001b[1mlanggraph-checkpoint\u001b[0m\u001b[2m==2.0.21\u001b[0m\n",
      " \u001b[32m+\u001b[39m \u001b[1mlanggraph-checkpoint-sqlite\u001b[0m\u001b[2m==2.0.6\u001b[0m\n",
      " \u001b[32m+\u001b[39m \u001b[1mlanggraph-prebuilt\u001b[0m\u001b[2m==0.1.4\u001b[0m\n",
      " \u001b[32m+\u001b[39m \u001b[1mlanggraph-sdk\u001b[0m\u001b[2m==0.1.58\u001b[0m\n",
      " \u001b[32m+\u001b[39m \u001b[1mmsgpack\u001b[0m\u001b[2m==1.1.0\u001b[0m\n",
      " \u001b[32m+\u001b[39m \u001b[1mregex\u001b[0m\u001b[2m==2024.11.6\u001b[0m\n",
      " \u001b[32m+\u001b[39m \u001b[1mtavily-python\u001b[0m\u001b[2m==0.5.1\u001b[0m\n",
      " \u001b[32m+\u001b[39m \u001b[1mtiktoken\u001b[0m\u001b[2m==0.9.0\u001b[0m\n"
     ]
    }
   ],
   "source": [
    "# 安装依赖\n",
    "%uv add -U langchain-community langgraph langchain-anthropic tavily-python langgraph-checkpoint-sqlite"
   ]
  },
  {
   "cell_type": "code",
   "execution_count": null,
   "id": "515d4eb5e0087479",
   "metadata": {},
   "outputs": [],
   "source": [
    "# 相关环境变量设置\n",
    "import sys \n",
    "sys.path.append(\"..\") \n",
    "from config import config_loader\n",
    "\n",
    "config_loader.load_env()"
   ]
  },
  {
   "cell_type": "code",
   "execution_count": 3,
   "id": "acc469d86cdd511b",
   "metadata": {},
   "outputs": [
    {
     "name": "stdout",
     "output_type": "stream",
     "text": [
      "[{'title': '【北京天气预报】北京天气预报一周,15天,30天天气查询-2345天气 ...', 'url': 'http://waptianqi.2345.com/', 'content': '【北京天气预报】北京天气预报一周,15天,30天天气查询-2345天气预报天气预报一周,7天,10天,15天,未来一周天气预报查询_2345天气预报\\n\\n\\n2345天气王\\n2345天气王\\n\\n\\n本地天气\\n国际天气\\n卫星云图\\n\\n北京天气 ==== [切换]\\n\\n\\n多云\\n-11\\xa0~\\xa0-1℃\\n\\n西北风 : 3级\\n湿度 : 21%\\n气压 : 1036 hPa\\n\\n7日天气预报 放到桌面\\n\\n今天_02/08_ 晴转多云 -11~-1℃\\n明天_02/09_ 晴 -10~1℃\\n\\n周一_02/10_\\n晴转多云\\n-6~4℃\\n\\n\\n周二_02/11_\\n多云\\n-5~5℃\\n\\n\\n周三_02/12_\\n晴\\n-4~6℃\\n\\n\\n周四_02/13_\\n晴\\n-3~7℃\\n\\n\\n周五_02/14_\\n多云\\n-2~8℃\\n\\n\\n查看15日天气\\n（免费下载天气王APP）', 'score': 0.79022324}, {'title': '中国气象局-天气预报- 北京', 'url': 'https://weather.cma.cn/web/weather/54511.html', 'content': '主站首页\\n领导主站\\n部门概况\\n新闻资讯\\n信息公开\\n服务办事\\n天气预报\\n首页\\n天气实况\\n气象公报\\n气象预警\\n城市预报\\n天气资讯\\n气象专题\\n气象科普\\n 首页 国内 北京 北京\\n国内 \\n|\\n北京 \\n|\\n北京 \\n更新\\n\\xa0\\n \\xa0  \\xa0  \\xa0  \\xa0\\n7天天气预报（2025/02/08 08:00发布）\\n星期六\\n02/08\\n晴\\n北风\\n微风\\n-1℃\\n-10℃\\n多云\\n北风\\n微风\\n星期日\\n02/09\\n晴\\n南风\\n微风\\n1℃\\n-10℃\\n晴\\n北风\\n微风\\n星期一\\n02/10\\n晴\\n南风\\n微风\\n4℃\\n-5℃\\n多云\\n北风\\n微风\\n星期二\\n02/11\\n多云\\n北风\\n微风\\n5℃\\n-4℃\\n多云\\n西北风\\n微风\\n星期三\\n02/12\\n晴\\n西北风\\n3~4级\\n6℃\\n-3℃\\n晴\\n西南风\\n微风\\n星期四\\n02/13\\n晴\\n西南风\\n微风\\n7℃\\n-3℃\\n晴\\n北风\\n微风\\n星期五\\n02/14\\n多云\\n东北风\\n微风\\n8℃\\n-2℃\\n多云\\n东南风\\n微风\\n 时间 11:00   14:00   17:00   20:00   23:00   02:00   05:00   08:00\\n 天气', 'score': 0.774601984}]\n"
     ]
    }
   ],
   "source": [
    "from langchain_community.tools.tavily_search import TavilySearchResults\n",
    "\n",
    "search = TavilySearchResults(max_results=2)\n",
    "\n",
    "# 测试工具是否可以正常使用\n",
    "search_results = search.invoke(\"北京未来一周的天气情况\")\n",
    "print(search_results)\n",
    "\n",
    "# 工具可以都放到一个列表中 给模型调用\n",
    "tools = [search]"
   ]
  },
  {
   "cell_type": "code",
   "execution_count": 4,
   "id": "6c9f2fee4c18a254",
   "metadata": {},
   "outputs": [
    {
     "name": "stdout",
     "output_type": "stream",
     "text": [
      "普通消息调用结果：你好！有什么我可以帮你的吗？\n",
      "工具调用信息：[]\n"
     ]
    }
   ],
   "source": [
    "# 让 llm 使用工具\n",
    "from langchain_google_genai.chat_models import ChatGoogleGenerativeAI\n",
    "from langchain_core.messages.human import HumanMessage\n",
    "\n",
    "# 定义大模型\n",
    "llm = ChatGoogleGenerativeAI(model=\"gemini-2.0-flash\")\n",
    "\n",
    "# 给该大模型绑定工具\n",
    "llm_with_tools = llm.bind_tools(tools)\n",
    "\n",
    "# 测试普通消息\n",
    "response = llm_with_tools.invoke([HumanMessage(content='你好呀！')])\n",
    "print(f'普通消息调用结果：{response.content}')\n",
    "print(f\"工具调用信息：{response.tool_calls}\", )"
   ]
  },
  {
   "cell_type": "code",
   "execution_count": null,
   "id": "36a80eac2cd4c849",
   "metadata": {},
   "outputs": [
    {
     "name": "stdout",
     "output_type": "stream",
     "text": [
      "调用工具消息结果：\n",
      "工具调用信息：[{'name': 'tavily_search_results_json', 'args': {'query': '北京未来一周天气'}, 'id': '5d7d9d40-c529-4e84-8ded-8a0a9c7505a5', 'type': 'tool_call'}]\n"
     ]
    }
   ],
   "source": [
    "response = llm_with_tools.invoke(\"北京未来一周天气\")\n",
    "# 可以看到这个是空的\n",
    "print(f\"调用工具消息结果：{response.content}\" )\n",
    "# 这个不是调用工具的结果，而是大模型告诉我们要调用这个工具 所以需要创建代理\n",
    "print(f\"工具调用信息：{response.tool_calls}\")"
   ]
  },
  {
   "cell_type": "code",
   "execution_count": 6,
   "id": "28c990a81e37bde",
   "metadata": {},
   "outputs": [
    {
     "data": {
      "text/plain": [
       "[HumanMessage(content='你好~', additional_kwargs={}, response_metadata={}, id='825f118c-55f2-49de-9511-46be978f46cd'),\n",
       " AIMessage(content='你好！有什么我可以帮你的吗？', additional_kwargs={}, response_metadata={'prompt_feedback': {'block_reason': 0, 'safety_ratings': []}, 'finish_reason': 'STOP', 'safety_ratings': []}, id='run-c18dc2d4-e6f0-426e-9a4c-1d11253e4642-0', usage_metadata={'input_tokens': 49, 'output_tokens': 9, 'total_tokens': 58, 'input_token_details': {'cache_read': 0}})]"
      ]
     },
     "execution_count": 6,
     "metadata": {},
     "output_type": "execute_result"
    }
   ],
   "source": [
    "from langgraph.prebuilt import create_react_agent\n",
    "\n",
    "# 创建 agent\n",
    "agent_executor = create_react_agent(llm, tools)\n",
    "\n",
    "# 看看不需要工具时候的响应\n",
    "response = agent_executor.invoke({\"messages\": [HumanMessage(content=\"你好~\")]})\n",
    "\n",
    "response[\"messages\"]"
   ]
  },
  {
   "cell_type": "code",
   "execution_count": 7,
   "id": "8e865d03d9d1526b",
   "metadata": {},
   "outputs": [
    {
     "name": "stdout",
     "output_type": "stream",
     "text": [
      "<class 'langgraph.pregel.io.AddableValuesDict'>\n"
     ]
    },
    {
     "data": {
      "text/plain": [
       "[HumanMessage(content='北京今天天气情况', additional_kwargs={}, response_metadata={}, id='775411f0-d280-4186-8742-413f07f61b5e'),\n",
       " AIMessage(content='', additional_kwargs={'function_call': {'name': 'tavily_search_results_json', 'arguments': '{\"query\": \"\\\\u5317\\\\u4eac\\\\u4eca\\\\u5929\\\\u5929\\\\u6c14\"}'}}, response_metadata={'prompt_feedback': {'block_reason': 0, 'safety_ratings': []}, 'finish_reason': 'STOP', 'safety_ratings': []}, id='run-14edb119-55a4-4124-93d9-c59c1cc8ac93-0', tool_calls=[{'name': 'tavily_search_results_json', 'args': {'query': '北京今天天气'}, 'id': 'ff01573c-7e20-4dc2-8e2e-028ce6aef2c5', 'type': 'tool_call'}], usage_metadata={'input_tokens': 51, 'output_tokens': 12, 'total_tokens': 63, 'input_token_details': {'cache_read': 0}}),\n",
       " ToolMessage(content='[{\"title\": \"【北京天气预报】北京天气预报7天,10天,15天_全国天气网\", \"url\": \"https://tianqi.so.com/weather/\", \"content\": \"全国天气网\\\\n首页\\\\n国内天气\\\\n空气质量\\\\n国际天气\\\\n景点天气\\\\n天气新闻\\\\n专业天气\\\\n收藏\\\\n北京[切换]当前时间：2025-02-08周六09:42\\\\n-7\\\\n晴\\\\n空气 优西北风 5级\\\\n今天 (02-08)\\\\n晴转多云\\\\n-11/-1℃\\\\n北风 微风\\\\n明天 (02-09)\\\\n晴\\\\n-10/1℃\\\\n南风 微风\\\\n周一 (02-10)\\\\n晴转多云\\\\n-6/4℃\\\\n东北风 微风\\\\n周二 (02-11)\\\\n多云\\\\n-5/5℃\\\\n北风 微风\\\\n周三 (02-12)\\\\n晴\\\\n-4/6℃\\\\n西北风 3-5级\\\\n周四 (02-13)\\\\n晴\\\\n-3/7℃\\\\n西南风 微风\\\\n周五 (02-14)\\\\n多云\\\\n-2/8℃\\\\n东北风 微风\\\\n周六 (02-15)\\\\n晴\\\\n0/9℃\\\\n西南风 微风\\\\n周日 (02-16)\\\\n晴\\\\n0/10℃\\\\n南风 微风\\\\n周一 (02-17)\\\\n多云转阴\\\\n-1/8℃\\\\n西南风 微风\\\\n周二 (02-18)\\\\n阴转多云\\\\n-1/4℃\\\\n南风 微风\\\\n周三 (02-19)\\\\n晴\\\\n-1/7℃\\\\n西北风 3-5级\\\\n周四 (02-20)\\\\n晴\\\\n-1/9℃\\\\n西北风 微风\\\\n周五 (02-21)\\\\n晴转阴\\\\n0/7℃\\\\n西南风 微风\\\\n周六 (02-22)\\\\n阴\\\\n0/8℃\\\\n西南风 微风\\\\n45日天气\", \"score\": 0.8033131}, {\"title\": \"北京 - 百度\", \"url\": \"https://weathernew.pae.baidu.com/weathernew/pc?query=%E5%8C%97%E4%BA%AC%E5%A4%A9%E6%B0%94&srcid=4982\", \"content\": \"北京 今天：晴 -1°~12°C 西南风1级\\\\n02月26日 周三 农历正月廿九\\\\n12°\\\\n56 良\\\\n晴 西南风 2级\\\\n湿度11% 日出06:52 日落18:02\\\\n24小时预报\\\\n\\\\n温度\\\\n降水量\\\\n风力风向\\\\n空气质量\\\\n\\\\n13°C6°C-1°C\\\\n现在\\\\n17:00\\\\n18:00\\\\n19:00\\\\n20:00\\\\n21:00\\\\n22:00\\\\n23:00\\\\n00:00\\\\n01:00\\\\n02:00\\\\n03:00\\\\n04:00\\\\n05:00\\\\n06:00\\\\n07:00\\\\n08:00\\\\n09:00\\\\n10:00\\\\n11:00\\\\n12:00\\\\n13:00\\\\n14:00\\\\n15:00\\\\n15天天气预报\\\\n\\\\n\\\\n昨天\\\\n02/25\\\\n3级\\\\n优\\\\n\\\\n\\\\n今天\\\\n02/26\\\\n1级\\\\n良\\\\n\\\\n\\\\n明天\\\\n02/27\\\\n2级\\\\n良\\\\n\\\\n\\\\n周五\\\\n02/28\\\\n2级\\\\n轻度\\\\n\\\\n\\\\n周六\\\\n03/01\\\\n1级\\\\n轻度\\\\n\\\\n\\\\n周日\\\\n03/02\\\\n2级\\\\n优\\\\n\\\\n\\\\n周一\\\\n03/03\\\\n2级\\\\n优\\\\n\\\\n\\\\n周二\\\\n03/04\\\\n2级\\\\n良\\\\n\\\\n\\\\n周三\\\\n03/05\\\\n2级\\\\n\\\\n\\\\n周四\\\\n03/06\\\\n2级\\\\n\\\\n\\\\n周五\\\\n03/07\\\\n2级\\\\n\\\\n\\\\n周六\\\\n03/08\\\\n2级\\\\n\\\\n\\\\n周日\\\\n03/09\\\\n2级\\\\n\\\\n\\\\n周一\\\\n03/10\\\\n3级\\\\n\\\\n\\\\n周二\\\\n03/11\\\\n2级\", \"score\": 0.7833981675}]', name='tavily_search_results_json', id='d720051e-3b18-43b8-bda6-db8cac12576c', tool_call_id='ff01573c-7e20-4dc2-8e2e-028ce6aef2c5', artifact={'query': '北京今天天气', 'follow_up_questions': None, 'answer': None, 'images': [], 'results': [{'url': 'https://tianqi.so.com/weather/', 'title': '【北京天气预报】北京天气预报7天,10天,15天_全国天气网', 'content': '全国天气网\\n首页\\n国内天气\\n空气质量\\n国际天气\\n景点天气\\n天气新闻\\n专业天气\\n收藏\\n北京[切换]当前时间：2025-02-08周六09:42\\n-7\\n晴\\n空气 优西北风 5级\\n今天 (02-08)\\n晴转多云\\n-11/-1℃\\n北风 微风\\n明天 (02-09)\\n晴\\n-10/1℃\\n南风 微风\\n周一 (02-10)\\n晴转多云\\n-6/4℃\\n东北风 微风\\n周二 (02-11)\\n多云\\n-5/5℃\\n北风 微风\\n周三 (02-12)\\n晴\\n-4/6℃\\n西北风 3-5级\\n周四 (02-13)\\n晴\\n-3/7℃\\n西南风 微风\\n周五 (02-14)\\n多云\\n-2/8℃\\n东北风 微风\\n周六 (02-15)\\n晴\\n0/9℃\\n西南风 微风\\n周日 (02-16)\\n晴\\n0/10℃\\n南风 微风\\n周一 (02-17)\\n多云转阴\\n-1/8℃\\n西南风 微风\\n周二 (02-18)\\n阴转多云\\n-1/4℃\\n南风 微风\\n周三 (02-19)\\n晴\\n-1/7℃\\n西北风 3-5级\\n周四 (02-20)\\n晴\\n-1/9℃\\n西北风 微风\\n周五 (02-21)\\n晴转阴\\n0/7℃\\n西南风 微风\\n周六 (02-22)\\n阴\\n0/8℃\\n西南风 微风\\n45日天气', 'score': 0.8033131, 'raw_content': None}, {'url': 'https://weathernew.pae.baidu.com/weathernew/pc?query=%E5%8C%97%E4%BA%AC%E5%A4%A9%E6%B0%94&srcid=4982', 'title': '北京 - 百度', 'content': '北京 今天：晴 -1°~12°C 西南风1级\\n02月26日 周三 农历正月廿九\\n12°\\n56 良\\n晴 西南风 2级\\n湿度11% 日出06:52 日落18:02\\n24小时预报\\n\\n温度\\n降水量\\n风力风向\\n空气质量\\n\\n13°C6°C-1°C\\n现在\\n17:00\\n18:00\\n19:00\\n20:00\\n21:00\\n22:00\\n23:00\\n00:00\\n01:00\\n02:00\\n03:00\\n04:00\\n05:00\\n06:00\\n07:00\\n08:00\\n09:00\\n10:00\\n11:00\\n12:00\\n13:00\\n14:00\\n15:00\\n15天天气预报\\n\\n\\n昨天\\n02/25\\n3级\\n优\\n\\n\\n今天\\n02/26\\n1级\\n良\\n\\n\\n明天\\n02/27\\n2级\\n良\\n\\n\\n周五\\n02/28\\n2级\\n轻度\\n\\n\\n周六\\n03/01\\n1级\\n轻度\\n\\n\\n周日\\n03/02\\n2级\\n优\\n\\n\\n周一\\n03/03\\n2级\\n优\\n\\n\\n周二\\n03/04\\n2级\\n良\\n\\n\\n周三\\n03/05\\n2级\\n\\n\\n周四\\n03/06\\n2级\\n\\n\\n周五\\n03/07\\n2级\\n\\n\\n周六\\n03/08\\n2级\\n\\n\\n周日\\n03/09\\n2级\\n\\n\\n周一\\n03/10\\n3级\\n\\n\\n周二\\n03/11\\n2级', 'score': 0.7833981675, 'raw_content': None}], 'response_time': 1.4}),\n",
       " AIMessage(content='今天（2月26日），北京晴，-1°~12°C，西南风1级，空气质量为良。', additional_kwargs={}, response_metadata={'prompt_feedback': {'block_reason': 0, 'safety_ratings': []}, 'finish_reason': 'STOP', 'safety_ratings': []}, id='run-78b446a5-ea48-4136-9a9d-44b69ae6b262-0', usage_metadata={'input_tokens': 1049, 'output_tokens': 30, 'total_tokens': 1079, 'input_token_details': {'cache_read': 0}})]"
      ]
     },
     "execution_count": 7,
     "metadata": {},
     "output_type": "execute_result"
    }
   ],
   "source": [
    "# 测试工具调用\n",
    "response = agent_executor.invoke({\"messages\": [HumanMessage(content=\"北京今天天气情况\")]})\n",
    "\n",
    "print(type(response))\n",
    "response[\"messages\"]"
   ]
  },
  {
   "cell_type": "code",
   "execution_count": 8,
   "id": "7a2d21f83d9b7a0f",
   "metadata": {},
   "outputs": [
    {
     "name": "stdout",
     "output_type": "stream",
     "text": [
      "================================\u001b[1m Human Message \u001b[0m=================================\n",
      "\n",
      "今天北京天气怎么样？\n",
      "==================================\u001b[1m Ai Message \u001b[0m==================================\n",
      "Tool Calls:\n",
      "  tavily_search_results_json (1ac5eef3-6ba5-4129-85a4-a763f2664b67)\n",
      " Call ID: 1ac5eef3-6ba5-4129-85a4-a763f2664b67\n",
      "  Args:\n",
      "    query: 北京今天天气\n",
      "=================================\u001b[1m Tool Message \u001b[0m=================================\n",
      "Name: tavily_search_results_json\n",
      "\n",
      "[{\"title\": \"【北京天气预报】北京天气预报7天,10天,15天_全国天气网\", \"url\": \"https://tianqi.so.com/weather/\", \"content\": \"全国天气网\\n首页\\n国内天气\\n空气质量\\n国际天气\\n景点天气\\n天气新闻\\n专业天气\\n收藏\\n北京[切换]当前时间：2025-02-08周六09:42\\n-7\\n晴\\n空气 优西北风 5级\\n今天 (02-08)\\n晴转多云\\n-11/-1℃\\n北风 微风\\n明天 (02-09)\\n晴\\n-10/1℃\\n南风 微风\\n周一 (02-10)\\n晴转多云\\n-6/4℃\\n东北风 微风\\n周二 (02-11)\\n多云\\n-5/5℃\\n北风 微风\\n周三 (02-12)\\n晴\\n-4/6℃\\n西北风 3-5级\\n周四 (02-13)\\n晴\\n-3/7℃\\n西南风 微风\\n周五 (02-14)\\n多云\\n-2/8℃\\n东北风 微风\\n周六 (02-15)\\n晴\\n0/9℃\\n西南风 微风\\n周日 (02-16)\\n晴\\n0/10℃\\n南风 微风\\n周一 (02-17)\\n多云转阴\\n-1/8℃\\n西南风 微风\\n周二 (02-18)\\n阴转多云\\n-1/4℃\\n南风 微风\\n周三 (02-19)\\n晴\\n-1/7℃\\n西北风 3-5级\\n周四 (02-20)\\n晴\\n-1/9℃\\n西北风 微风\\n周五 (02-21)\\n晴转阴\\n0/7℃\\n西南风 微风\\n周六 (02-22)\\n阴\\n0/8℃\\n西南风 微风\\n45日天气\", \"score\": 0.8033131}, {\"title\": \"北京 - 百度\", \"url\": \"https://weathernew.pae.baidu.com/weathernew/pc?query=%E5%8C%97%E4%BA%AC%E5%A4%A9%E6%B0%94&srcid=4982\", \"content\": \"北京 今天：晴 -1°~12°C 西南风1级\\n02月26日 周三 农历正月廿九\\n12°\\n56 良\\n晴 西南风 2级\\n湿度11% 日出06:52 日落18:02\\n24小时预报\\n\\n温度\\n降水量\\n风力风向\\n空气质量\\n\\n13°C6°C-1°C\\n现在\\n17:00\\n18:00\\n19:00\\n20:00\\n21:00\\n22:00\\n23:00\\n00:00\\n01:00\\n02:00\\n03:00\\n04:00\\n05:00\\n06:00\\n07:00\\n08:00\\n09:00\\n10:00\\n11:00\\n12:00\\n13:00\\n14:00\\n15:00\\n15天天气预报\\n\\n\\n昨天\\n02/25\\n3级\\n优\\n\\n\\n今天\\n02/26\\n1级\\n良\\n\\n\\n明天\\n02/27\\n2级\\n良\\n\\n\\n周五\\n02/28\\n2级\\n轻度\\n\\n\\n周六\\n03/01\\n1级\\n轻度\\n\\n\\n周日\\n03/02\\n2级\\n优\\n\\n\\n周一\\n03/03\\n2级\\n优\\n\\n\\n周二\\n03/04\\n2级\\n良\\n\\n\\n周三\\n03/05\\n2级\\n\\n\\n周四\\n03/06\\n2级\\n\\n\\n周五\\n03/07\\n2级\\n\\n\\n周六\\n03/08\\n2级\\n\\n\\n周日\\n03/09\\n2级\\n\\n\\n周一\\n03/10\\n3级\\n\\n\\n周二\\n03/11\\n2级\", \"score\": 0.7833981675}]\n",
      "==================================\u001b[1m Ai Message \u001b[0m==================================\n",
      "\n",
      "今天北京是晴天，温度-1°~12°C，西南风1级，空气质量是良。\n"
     ]
    }
   ],
   "source": [
    "# 流式传输 显式实时进度\n",
    "for step in agent_executor.stream(\n",
    "    {\"messages\": [HumanMessage(content=\"今天北京天气怎么样？\")]},\n",
    "    stream_mode=\"values\",\n",
    "):\n",
    "    step[\"messages\"][-1].pretty_print()"
   ]
  },
  {
   "cell_type": "code",
   "execution_count": 9,
   "id": "aee5bda442c57751",
   "metadata": {},
   "outputs": [
    {
     "name": "stdout",
     "output_type": "stream",
     "text": [
      "今天|（2月26日）：晴，-1°~12°C，西南|风1级，空气质量良。请注意，此信息可能不完全|准确，建议您查看专业天气预报获取更详细和最新的信息。|"
     ]
    }
   ],
   "source": [
    "# langchain-core>=0.3.37 的话 也可以添加 stream_mode=\"messages\"\n",
    "for step, metadata in agent_executor.stream(\n",
    "    {\"messages\": [HumanMessage(content=\"北京今天天气怎么样\")]},\n",
    "    stream_mode=\"messages\",\n",
    "):\n",
    "    if metadata[\"langgraph_node\"] == \"agent\" and (text := step.text()):\n",
    "        print(text, end=\"|\")"
   ]
  },
  {
   "cell_type": "code",
   "execution_count": 10,
   "id": "39bb8c21ef1f6ca3",
   "metadata": {},
   "outputs": [
    {
     "name": "stdout",
     "output_type": "stream",
     "text": [
      "{'agent': {'messages': [AIMessage(content='很高兴认识你，张三！', additional_kwargs={}, response_metadata={'prompt_feedback': {'block_reason': 0, 'safety_ratings': []}, 'finish_reason': 'STOP', 'safety_ratings': []}, id='run-987779b5-f882-4781-9304-7560a3e7ee1c-0', usage_metadata={'input_tokens': 52, 'output_tokens': 9, 'total_tokens': 61, 'input_token_details': {'cache_read': 0}})]}}\n",
      "----\n"
     ]
    }
   ],
   "source": [
    "# agent 添加记忆\n",
    "from langgraph.checkpoint.memory import MemorySaver\n",
    "\n",
    "memory = MemorySaver()\n",
    "# 就是传参的时候 多一个 checkpointer 参数\n",
    "agent_executor = create_react_agent(llm, tools, checkpointer=memory)\n",
    "\n",
    "# 设置对话线程\n",
    "config = {\"configurable\": {\"thread_id\": \"abc123\"}}\n",
    "\n",
    "for chunk in agent_executor.stream(\n",
    "    {\"messages\": [HumanMessage(content=\"我的名字是张三\")]}, config\n",
    "):\n",
    "    print(chunk)\n",
    "    print(\"----\")"
   ]
  },
  {
   "cell_type": "code",
   "execution_count": 11,
   "id": "f523090c5610b89",
   "metadata": {},
   "outputs": [
    {
     "name": "stdout",
     "output_type": "stream",
     "text": [
      "{'agent': {'messages': [AIMessage(content='你的名字是张三。', additional_kwargs={}, response_metadata={'prompt_feedback': {'block_reason': 0, 'safety_ratings': []}, 'finish_reason': 'STOP', 'safety_ratings': []}, id='run-54fea608-ffd0-466c-bb2e-7acd2d16d74e-0', usage_metadata={'input_tokens': 64, 'output_tokens': 7, 'total_tokens': 71, 'input_token_details': {'cache_read': 0}})]}}\n",
      "----\n"
     ]
    }
   ],
   "source": [
    "# 测试记忆\n",
    "for chunk in agent_executor.stream(\n",
    "    {\"messages\": [HumanMessage(content=\"我的名字是什么？\")]}, config\n",
    "):\n",
    "    print(chunk)\n",
    "    print(\"----\")"
   ]
  }
 ],
 "metadata": {
  "kernelspec": {
   "display_name": ".venv",
   "language": "python",
   "name": "python3"
  },
  "language_info": {
   "codemirror_mode": {
    "name": "ipython",
    "version": 3
   },
   "file_extension": ".py",
   "mimetype": "text/x-python",
   "name": "python",
   "nbconvert_exporter": "python",
   "pygments_lexer": "ipython3",
   "version": "3.11.11"
  }
 },
 "nbformat": 4,
 "nbformat_minor": 5
}
