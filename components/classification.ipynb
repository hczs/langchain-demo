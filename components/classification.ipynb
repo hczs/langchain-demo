{
 "cells": [
  {
   "cell_type": "code",
   "id": "initial_id",
   "metadata": {
    "collapsed": true
   },
   "source": [
    "# 目标：使用聊天模型将文本分类到标签中\n",
    "# 分类以下标签\n",
    "# 情绪\n",
    "# 语言\n",
    "# 风格（正式、非正式等）\n",
    "# 涵盖的主题\n",
    "# 政治倾向\n"
   ],
   "outputs": [],
   "execution_count": null
  },
  {
   "metadata": {},
   "cell_type": "code",
   "source": [
    "# 相关环境变量设置\n",
    "import config_loader\n",
    "\n",
    "config_loader.load_env()"
   ],
   "id": "37185e2236f98d5f",
   "outputs": [],
   "execution_count": null
  },
  {
   "metadata": {},
   "cell_type": "code",
   "source": [
    "from pydantic import Field, BaseModel\n",
    "from langchain_core.prompts import ChatPromptTemplate\n",
    "from langchain_google_genai import ChatGoogleGenerativeAI\n",
    "\n",
    "\n",
    "# 打标签的提示词\n",
    "tagging_prompt = ChatPromptTemplate.from_template(\n",
    "    \"\"\"\n",
    "    从下面的文本中提取所需的信息。\n",
    "\n",
    "    只提取` Classification `函数中提到的属性。\n",
    "\n",
    "    文本：\n",
    "    {input}\n",
    "    \"\"\"\n",
    ")\n",
    "\n",
    "class Classification(BaseModel):\n",
    "    \"\"\"\n",
    "    定义一个 pydantic 模型\n",
    "    有属性及类型定义\n",
    "    llm会根据这个定义来输出结果\n",
    "    \"\"\"\n",
    "    sentiment: str = Field(description=\"文本的情感\")\n",
    "    aggressiveness: int = Field(\n",
    "        description=\"从1到10，对这段文本的攻击性进行评分\"\n",
    "    )\n",
    "    language: str = Field(description=\"书写文本的语言\")\n",
    "\n",
    "# 配置谷歌聊天模型 并在后面添加 with_structured_output 限制，限制模型为结构化输出\n",
    "llm = ChatGoogleGenerativeAI(\n",
    "    model=\"gemini-2.0-flash\",\n",
    "    temperature=0,\n",
    "    max_tokens=None,\n",
    "    timeout=None,\n",
    "    max_retries=2,\n",
    "    # other params...\n",
    ").with_structured_output(Classification)"
   ],
   "id": "81bbc0bd99e1a4ac",
   "outputs": [],
   "execution_count": null
  },
  {
   "metadata": {
    "ExecuteTime": {
     "end_time": "2025-03-22T08:47:53.232808Z",
     "start_time": "2025-03-22T08:47:52.309731Z"
    }
   },
   "cell_type": "code",
   "source": [
    "inp = \"我的 bug 终于改完了！\"\n",
    "prompt = tagging_prompt.invoke({\"input\": inp})\n",
    "response = llm.invoke(prompt)\n",
    "\n",
    "# 原始输出 直接是 Classification 对象\n",
    "print(response)\n",
    "# 字典输出\n",
    "print(response.model_dump())"
   ],
   "id": "f28d1d4080994fda",
   "outputs": [
    {
     "name": "stdout",
     "output_type": "stream",
     "text": [
      "sentiment='positive' aggressiveness=1 language='chinese'\n",
      "{'sentiment': 'positive', 'aggressiveness': 1, 'language': 'chinese'}\n"
     ]
    }
   ],
   "execution_count": 16
  },
  {
   "metadata": {
    "ExecuteTime": {
     "end_time": "2025-03-22T09:36:22.415476Z",
     "start_time": "2025-03-22T09:36:22.407602Z"
    }
   },
   "cell_type": "code",
   "source": [
    "# 上面可以正常判断了，但是输出的标签是随机的，有时候是中文，有时候是英文，并不稳定\n",
    "# 下面介绍如何更精细化判断\n",
    "\n",
    "from pydantic import Field, BaseModel\n",
    "from langchain_core.prompts import ChatPromptTemplate\n",
    "from langchain_google_genai import ChatGoogleGenerativeAI\n",
    "\n",
    "# 官方文档这个有警告，并且还会报错：TypeError: bad argument type for built-in operation\n",
    "# 评论区说是 Gemini 系列模型的问题\n",
    "class Classification(BaseModel):\n",
    "    sentiment: str = Field(..., enum=[\"高兴\", \"自然\", \"悲伤\"])\n",
    "    aggressiveness: int = Field(\n",
    "        ...,\n",
    "        description=\"描述语句的攻击性，数字越高越强\",\n",
    "        enum=[1, 2, 3, 4, 5],\n",
    "    )\n",
    "    language: str = Field(\n",
    "        ..., enum=[\"西班牙语\", \"英语\", \"法语\", \"德语\", \"意大利语\", \"中文\"]\n",
    "    )"
   ],
   "id": "32d749a6ec6795fa",
   "outputs": [],
   "execution_count": 28
  },
  {
   "metadata": {},
   "cell_type": "code",
   "outputs": [],
   "execution_count": null,
   "source": [
    "# 再把提示词一起拿过来 方便查看\n",
    "tagging_prompt = ChatPromptTemplate.from_template(\n",
    "    \"\"\"\n",
    "    从下面的文本中提取所需的信息。\n",
    "\n",
    "    只提取` Classification `函数中提到的属性。\n",
    "\n",
    "    文本：\n",
    "    {input}\n",
    "    \"\"\"\n",
    ")\n",
    "\n",
    "# 重新定义大模型对象\n",
    "llm = ChatGoogleGenerativeAI(\n",
    "    model=\"gemini-2.0-flash\",\n",
    "    temperature=0,\n",
    "    max_tokens=None,\n",
    "    timeout=None,\n",
    "    max_retries=2,\n",
    "    # other params...\n",
    ").with_structured_output(Classification)\n"
   ],
   "id": "68d6dc3d7b879248"
  }
 ],
 "metadata": {
  "kernelspec": {
   "display_name": "Python 3",
   "language": "python",
   "name": "python3"
  },
  "language_info": {
   "codemirror_mode": {
    "name": "ipython",
    "version": 2
   },
   "file_extension": ".py",
   "mimetype": "text/x-python",
   "name": "python",
   "nbconvert_exporter": "python",
   "pygments_lexer": "ipython2",
   "version": "2.7.6"
  }
 },
 "nbformat": 4,
 "nbformat_minor": 5
}
