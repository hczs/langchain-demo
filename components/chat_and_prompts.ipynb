{
 "cells": [
  {
   "cell_type": "code",
   "execution_count": null,
   "id": "initial_id",
   "metadata": {
    "collapsed": true
   },
   "outputs": [],
   "source": [
    "# 目标 熟悉 langchain 调用大模型\n",
    "# 1.在 LangChain 中使用 LLM\n",
    "# 2.使用 prompt templates 组件\n",
    "# 3.使用 LangSmith 调试和追踪"
   ]
  },
  {
   "cell_type": "code",
   "execution_count": 2,
   "id": "4d172ca29c0163b0",
   "metadata": {},
   "outputs": [
    {
     "name": "stdout",
     "output_type": "stream",
     "text": [
      "Note: you may need to restart the kernel to use updated packages.\n"
     ]
    },
    {
     "name": "stderr",
     "output_type": "stream",
     "text": [
      "\u001b[2mResolved \u001b[1m111 packages\u001b[0m \u001b[2min 2ms\u001b[0m\u001b[0m\n",
      "\u001b[2mAudited \u001b[1m106 packages\u001b[0m \u001b[2min 0.34ms\u001b[0m\u001b[0m\n"
     ]
    }
   ],
   "source": [
    "# 安装依赖\n",
    "%uv add langchain"
   ]
  },
  {
   "cell_type": "code",
   "execution_count": null,
   "id": "cf734259601ec95a",
   "metadata": {},
   "outputs": [],
   "source": [
    "# 相关环境变量设置\n",
    "import sys \n",
    "sys.path.append(\"..\") \n",
    "from config import config_loader\n",
    "\n",
    "config_loader.load_env()"
   ]
  },
  {
   "cell_type": "code",
   "execution_count": 5,
   "id": "f13d6154a1a9d946",
   "metadata": {},
   "outputs": [
    {
     "name": "stdout",
     "output_type": "stream",
     "text": [
      "Note: you may need to restart the kernel to use updated packages.\n"
     ]
    },
    {
     "name": "stderr",
     "output_type": "stream",
     "text": [
      "\u001b[2mResolved \u001b[1m125 packages\u001b[0m \u001b[2min 2.38s\u001b[0m\u001b[0m\n",
      "\u001b[36m\u001b[1mDownloading\u001b[0m\u001b[39m grpcio \u001b[2m(4.1MiB)\u001b[0m\n",
      "\u001b[36m\u001b[1mDownloading\u001b[0m\u001b[39m google-ai-generativelanguage \u001b[2m(1.3MiB)\u001b[0m\n",
      " \u001b[32m\u001b[1mDownloaded\u001b[0m\u001b[39m grpcio\n",
      " \u001b[32m\u001b[1mDownloaded\u001b[0m\u001b[39m google-ai-generativelanguage\n",
      "\u001b[2mPrepared \u001b[1m14 packages\u001b[0m \u001b[2min 4.33s\u001b[0m\u001b[0m\n",
      "\u001b[1m\u001b[33mwarning\u001b[39m\u001b[0m\u001b[1m:\u001b[0m \u001b[1mFailed to hardlink files; falling back to full copy. This may lead to degraded performance.\n",
      "         If the cache and target directories are on different filesystems, hardlinking may not be supported.\n",
      "         If this is intentional, set `export UV_LINK_MODE=copy` or use `--link-mode=copy` to suppress this warning.\u001b[0m\n",
      "\u001b[2mInstalled \u001b[1m14 packages\u001b[0m \u001b[2min 3.05s\u001b[0m\u001b[0m\n",
      " \u001b[32m+\u001b[39m \u001b[1mcachetools\u001b[0m\u001b[2m==5.5.2\u001b[0m\n",
      " \u001b[32m+\u001b[39m \u001b[1mfiletype\u001b[0m\u001b[2m==1.2.0\u001b[0m\n",
      " \u001b[32m+\u001b[39m \u001b[1mgoogle-ai-generativelanguage\u001b[0m\u001b[2m==0.6.17\u001b[0m\n",
      " \u001b[32m+\u001b[39m \u001b[1mgoogle-api-core\u001b[0m\u001b[2m==2.24.2\u001b[0m\n",
      " \u001b[32m+\u001b[39m \u001b[1mgoogle-auth\u001b[0m\u001b[2m==2.38.0\u001b[0m\n",
      " \u001b[32m+\u001b[39m \u001b[1mgoogleapis-common-protos\u001b[0m\u001b[2m==1.69.2\u001b[0m\n",
      " \u001b[32m+\u001b[39m \u001b[1mgrpcio\u001b[0m\u001b[2m==1.71.0\u001b[0m\n",
      " \u001b[32m+\u001b[39m \u001b[1mgrpcio-status\u001b[0m\u001b[2m==1.71.0\u001b[0m\n",
      " \u001b[32m+\u001b[39m \u001b[1mlangchain-google-genai\u001b[0m\u001b[2m==2.1.1\u001b[0m\n",
      " \u001b[32m+\u001b[39m \u001b[1mproto-plus\u001b[0m\u001b[2m==1.26.1\u001b[0m\n",
      " \u001b[32m+\u001b[39m \u001b[1mprotobuf\u001b[0m\u001b[2m==5.29.4\u001b[0m\n",
      " \u001b[32m+\u001b[39m \u001b[1mpyasn1\u001b[0m\u001b[2m==0.6.1\u001b[0m\n",
      " \u001b[32m+\u001b[39m \u001b[1mpyasn1-modules\u001b[0m\u001b[2m==0.4.1\u001b[0m\n",
      " \u001b[32m+\u001b[39m \u001b[1mrsa\u001b[0m\u001b[2m==4.9\u001b[0m\n"
     ]
    }
   ],
   "source": [
    "# 安装谷歌聊天模型 可以根据自己的情况自行选择\n",
    "%uv add -U langchain-google-genai"
   ]
  },
  {
   "cell_type": "code",
   "execution_count": 6,
   "id": "3937a9eef850fda8",
   "metadata": {},
   "outputs": [
    {
     "name": "stdout",
     "output_type": "stream",
     "text": [
      "content='Who are you?' additional_kwargs={} response_metadata={'prompt_feedback': {'block_reason': 0, 'safety_ratings': []}, 'finish_reason': 'STOP', 'safety_ratings': []} id='run-bb9dc6d5-cdec-4cce-8e79-258f5be240b1-0' usage_metadata={'input_tokens': 9, 'output_tokens': 5, 'total_tokens': 14, 'input_token_details': {'cache_read': 0}}\n",
      "Who are you?\n"
     ]
    }
   ],
   "source": [
    "from langchain_google_genai import ChatGoogleGenerativeAI\n",
    "from langchain_core.messages import SystemMessage, HumanMessage\n",
    "\n",
    "# 配置谷歌聊天模型\n",
    "model = ChatGoogleGenerativeAI(\n",
    "    model=\"gemini-2.0-flash\",\n",
    "    temperature=0,\n",
    "    max_tokens=None,\n",
    "    timeout=None,\n",
    "    max_retries=2,\n",
    "    # other params...\n",
    ")\n",
    "\n",
    "# SystemMessage: 启动 AI 行为的信息，作为消息序列的第一个传入输入消息\n",
    "# HumanMessage: 用户传入的消息\n",
    "messages = [\n",
    "    SystemMessage(\"把下面的中文翻译成英文\"),\n",
    "    HumanMessage(\"你是谁？\"),\n",
    "]\n",
    "ai_msg = model.invoke(messages)\n",
    "print(ai_msg)\n",
    "print(ai_msg.content)"
   ]
  },
  {
   "cell_type": "code",
   "execution_count": 7,
   "id": "34e3e6e6f9e54583",
   "metadata": {},
   "outputs": [
    {
     "data": {
      "text/plain": [
       "AIMessage(content='Hello! How can I help you today?', additional_kwargs={}, response_metadata={'prompt_feedback': {'block_reason': 0, 'safety_ratings': []}, 'finish_reason': 'STOP', 'safety_ratings': []}, id='run-0820f90d-305d-41fb-bf8f-a888d386b324-0', usage_metadata={'input_tokens': 1, 'output_tokens': 10, 'total_tokens': 11, 'input_token_details': {'cache_read': 0}})"
      ]
     },
     "execution_count": 7,
     "metadata": {},
     "output_type": "execute_result"
    }
   ],
   "source": [
    "# 发送消息调用模型 下面三种方式是等价的\n",
    "model.invoke(\"Hello\")\n",
    "\n",
    "model.invoke([{\"role\": \"user\", \"content\": \"Hello\"}])\n",
    "\n",
    "model.invoke([HumanMessage(\"Hello\")])"
   ]
  },
  {
   "cell_type": "code",
   "execution_count": 8,
   "id": "9f937190a2721216",
   "metadata": {},
   "outputs": [
    {
     "name": "stdout",
     "output_type": "stream",
     "text": [
      "Who| are you?|"
     ]
    }
   ],
   "source": [
    "# 消息流式传输 下面将会一个token一个token的输出，并且不同token之间以 | 分隔\n",
    "for token in model.stream(messages):\n",
    "    print(token.content, end=\"|\")"
   ]
  },
  {
   "cell_type": "code",
   "execution_count": 9,
   "id": "a520f1bb9511c9e8",
   "metadata": {},
   "outputs": [
    {
     "name": "stdout",
     "output_type": "stream",
     "text": [
      "messages=[SystemMessage(content='把这段文本翻译成英文', additional_kwargs={}, response_metadata={}), HumanMessage(content='你好呀', additional_kwargs={}, response_metadata={})]\n",
      "[SystemMessage(content='把这段文本翻译成英文', additional_kwargs={}, response_metadata={}), HumanMessage(content='你好呀', additional_kwargs={}, response_metadata={})]\n"
     ]
    },
    {
     "data": {
      "text/plain": [
       "'Here are a few options, depending on the nuance you want to convey:\\n\\n*   **Hello there!** (Friendly and common)\\n*   **Hi!** (Simple and informal)\\n*   **Hey!** (Casual)\\n*   **Hi there!** (Slightly more enthusiastic than \"Hi\")'"
      ]
     },
     "execution_count": 9,
     "metadata": {},
     "output_type": "execute_result"
    }
   ],
   "source": [
    "# 提示词模板\n",
    "# 定义一套可复用的提示词模板，可以用提示词模板结构化提示词，将提示词分为系统指令和用户输入两部分，易于理解和维护，并且可传参，动态替换提示词模板中的变量\n",
    "# 可复用性、结构化提示词、灵活性\n",
    "from langchain_core.prompts import ChatPromptTemplate\n",
    "\n",
    "system_template = \"把这段文本翻译成{language}\"\n",
    "# 定义系统角色和用户角色各自的发言\n",
    "prompt_template = ChatPromptTemplate.from_messages(\n",
    "    [(\"system\", system_template), (\"user\", \"{text}\")]\n",
    ")\n",
    "# 在这里传参\n",
    "prompt = prompt_template.invoke({\n",
    "    \"language\": \"英文\",\n",
    "    \"text\": \"你好呀\",\n",
    "})\n",
    "print(prompt)\n",
    "print(prompt.to_messages())\n",
    "# 测试模型调用\n",
    "ai_msg = model.invoke(prompt)\n",
    "ai_msg.content"
   ]
  }
 ],
 "metadata": {
  "kernelspec": {
   "display_name": ".venv",
   "language": "python",
   "name": "python3"
  },
  "language_info": {
   "codemirror_mode": {
    "name": "ipython",
    "version": 3
   },
   "file_extension": ".py",
   "mimetype": "text/x-python",
   "name": "python",
   "nbconvert_exporter": "python",
   "pygments_lexer": "ipython3",
   "version": "3.11.11"
  }
 },
 "nbformat": 4,
 "nbformat_minor": 5
}
