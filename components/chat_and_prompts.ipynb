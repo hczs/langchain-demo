{
 "cells": [
  {
   "cell_type": "code",
   "id": "initial_id",
   "metadata": {
    "collapsed": true
   },
   "source": [
    "# 目标 熟悉 langchain 调用大模型\n",
    "# 1.在 LangChain 中使用 LLM\n",
    "# 2.使用 prompt templates 组件\n",
    "# 3.使用 LangSmith 调试和追踪"
   ],
   "outputs": [],
   "execution_count": null
  },
  {
   "metadata": {},
   "cell_type": "code",
   "source": [
    "import sys\n",
    "\n",
    "from jupyterlab.extensions.pypi import http_proxy\n",
    "from langchain.chat_models import init_chat_model\n",
    "from langchain_community.llms.openai import OpenAI\n",
    "# 安装依赖\n",
    "%pip install langchain"
   ],
   "id": "4d172ca29c0163b0",
   "outputs": [],
   "execution_count": null
  },
  {
   "metadata": {},
   "cell_type": "code",
   "source": [
    "# 相关环境变量设置\n",
    "import config_loader\n",
    "\n",
    "config_loader.load_env()"
   ],
   "id": "cf734259601ec95a",
   "outputs": [],
   "execution_count": null
  },
  {
   "metadata": {},
   "cell_type": "code",
   "source": [
    "# 安装谷歌聊天模型 可以根据自己的情况自行选择\n",
    "%pip install -U langchain-google-genai"
   ],
   "id": "f13d6154a1a9d946",
   "outputs": [],
   "execution_count": null
  },
  {
   "metadata": {},
   "cell_type": "code",
   "source": [
    "from langchain_google_genai import ChatGoogleGenerativeAI\n",
    "from langchain_core.messages import SystemMessage, HumanMessage\n",
    "\n",
    "# 配置谷歌聊天模型\n",
    "model = ChatGoogleGenerativeAI(\n",
    "    model=\"gemini-2.0-flash\",\n",
    "    temperature=0,\n",
    "    max_tokens=None,\n",
    "    timeout=None,\n",
    "    max_retries=2,\n",
    "    # other params...\n",
    ")\n",
    "\n",
    "# SystemMessage: 启动 AI 行为的信息，作为消息序列的第一个传入输入消息\n",
    "# HumanMessage: 用户传入的消息\n",
    "messages = [\n",
    "    SystemMessage(\"把下面的中文翻译成英文\"),\n",
    "    HumanMessage(\"你是谁？\"),\n",
    "]\n",
    "ai_msg = model.invoke(messages)\n",
    "print(ai_msg)\n",
    "print(ai_msg.content)"
   ],
   "id": "3937a9eef850fda8",
   "outputs": [],
   "execution_count": null
  },
  {
   "metadata": {},
   "cell_type": "code",
   "source": [
    "# 发送消息调用模型 下面三种方式是等价的\n",
    "model.invoke(\"Hello\")\n",
    "\n",
    "model.invoke([{\"role\": \"user\", \"content\": \"Hello\"}])\n",
    "\n",
    "model.invoke([HumanMessage(\"Hello\")])"
   ],
   "id": "34e3e6e6f9e54583",
   "outputs": [],
   "execution_count": null
  },
  {
   "metadata": {},
   "cell_type": "code",
   "source": [
    "# 消息流式传输 下面将会一个token一个token的输出，并且不同token之间以 | 分隔\n",
    "for token in model.stream(messages):\n",
    "    print(token.content, end=\"|\")"
   ],
   "id": "9f937190a2721216",
   "outputs": [],
   "execution_count": null
  },
  {
   "metadata": {},
   "cell_type": "code",
   "source": [
    "# 提示词模板\n",
    "# 定义一套可复用的提示词模板，可以用提示词模板结构化提示词，将提示词分为系统指令和用户输入两部分，易于理解和维护，并且可传参，动态替换提示词模板中的变量\n",
    "# 可复用性、结构化提示词、灵活性\n",
    "from langchain_core.prompts import ChatPromptTemplate\n",
    "\n",
    "system_template = \"把这段文本翻译成{language}\"\n",
    "# 定义系统角色和用户角色各自的发言\n",
    "prompt_template = ChatPromptTemplate.from_messages(\n",
    "    [(\"system\", system_template), (\"user\", \"{text}\")]\n",
    ")\n",
    "# 在这里传参\n",
    "prompt = prompt_template.invoke({\n",
    "    \"language\": \"英文\",\n",
    "    \"text\": \"你好呀\",\n",
    "})\n",
    "print(prompt)\n",
    "print(prompt.to_messages())\n",
    "# 测试模型调用\n",
    "ai_msg = model.invoke(prompt)\n",
    "ai_msg.content"
   ],
   "id": "a520f1bb9511c9e8",
   "outputs": [],
   "execution_count": null
  },
  {
   "metadata": {},
   "cell_type": "code",
   "source": "",
   "id": "c2088ad4f6b6a2ec",
   "outputs": [],
   "execution_count": null
  }
 ],
 "metadata": {
  "kernelspec": {
   "display_name": "Python 3",
   "language": "python",
   "name": "python3"
  },
  "language_info": {
   "codemirror_mode": {
    "name": "ipython",
    "version": 2
   },
   "file_extension": ".py",
   "mimetype": "text/x-python",
   "name": "python",
   "nbconvert_exporter": "python",
   "pygments_lexer": "ipython2",
   "version": "2.7.6"
  }
 },
 "nbformat": 4,
 "nbformat_minor": 5
}
